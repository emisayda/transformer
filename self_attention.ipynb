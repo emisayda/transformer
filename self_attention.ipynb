{
  "nbformat": 4,
  "nbformat_minor": 0,
  "metadata": {
    "colab": {
      "provenance": [],
      "authorship_tag": "ABX9TyNNDmQwtGo1hUWJefTjc4mk"
    },
    "kernelspec": {
      "name": "python3",
      "display_name": "Python 3"
    },
    "language_info": {
      "name": "python"
    }
  },
  "cells": [
    {
      "cell_type": "markdown",
      "source": [
        "### **Scaled Dot-Product Attention: Q,K -> MatMul-> Scale-> Mask(opt.)-> SoftMax,V -> MatMul**"
      ],
      "metadata": {
        "id": "5vngmvd79pLG"
      }
    },
    {
      "cell_type": "code",
      "execution_count": null,
      "metadata": {
        "id": "_q4pS9lIxMP4"
      },
      "outputs": [],
      "source": [
        "import numpy as np\n",
        "import math\n",
        "\n",
        "# L= sequence length (in our case it is 4 because the sentence consists of 4 words)\n",
        "# d_k , d_v = dimensions of q, k, and v\n",
        "# q:what information should I look for?,\n",
        "# k:how relevant am I to what the query is looking for?,\n",
        "# q:actual information contained in each token\n",
        "L, d_k, d_v = 4,8,8\n",
        "q = np.random.randn(L, d_k)\n",
        "k = np.random.randn(L, d_k)\n",
        "v = np.random.randn(L, d_v)\n",
        "# q and k have same shapes because they are going to get MatMul-ed :D"
      ]
    },
    {
      "cell_type": "code",
      "source": [
        "np.matmul(q,k.T)"
      ],
      "metadata": {
        "colab": {
          "base_uri": "https://localhost:8080/"
        },
        "id": "VJdFjlYA6p7u",
        "outputId": "43f68738-ff95-4c1b-f54d-6aaf4f7f0646"
      },
      "execution_count": null,
      "outputs": [
        {
          "output_type": "execute_result",
          "data": {
            "text/plain": [
              "array([[-0.6565045 , -3.76956714,  3.08105246,  2.43434131],\n",
              "       [ 2.07802559,  1.21139921,  7.93190485, -1.00497858],\n",
              "       [ 4.20399631, -0.29168475, -1.308575  , -5.64194761],\n",
              "       [ 4.73150822, -1.13656296,  2.20243154, -5.90394453]])"
            ]
          },
          "metadata": {},
          "execution_count": 3
        }
      ]
    },
    {
      "cell_type": "code",
      "source": [
        "k.var() , q.var(), np.matmul(q,k.T).var()"
      ],
      "metadata": {
        "colab": {
          "base_uri": "https://localhost:8080/"
        },
        "id": "zX_jXwoB7zlS",
        "outputId": "3efc07ac-ec07-4aea-de9b-6e6b5622e5c3"
      },
      "execution_count": null,
      "outputs": [
        {
          "output_type": "execute_result",
          "data": {
            "text/plain": [
              "(1.2087949575675125, 1.4246945192878466, 13.143538524054767)"
            ]
          },
          "metadata": {},
          "execution_count": 6
        }
      ]
    },
    {
      "cell_type": "code",
      "source": [
        "#we scale the q k and matmul because their variances have too much difference\n",
        "scaled = np.matmul(q,k.T) / math.sqrt(d_k)"
      ],
      "metadata": {
        "id": "2dRmvStm7Lix"
      },
      "execution_count": null,
      "outputs": []
    },
    {
      "cell_type": "code",
      "source": [
        "k.var(), q.var(), scaled.var()\n",
        "#now they are good"
      ],
      "metadata": {
        "colab": {
          "base_uri": "https://localhost:8080/"
        },
        "id": "INBIIldp8ygz",
        "outputId": "071720d1-7aaa-4160-fdbd-7d5886cbdd9a"
      },
      "execution_count": null,
      "outputs": [
        {
          "output_type": "execute_result",
          "data": {
            "text/plain": [
              "(1.2087949575675125, 1.4246945192878466, 1.6429423155068454)"
            ]
          },
          "metadata": {},
          "execution_count": 10
        }
      ]
    },
    {
      "cell_type": "code",
      "source": [
        "#mask time, it is optional because the words happen to enter the encoder mechanism simultaneuosly\n",
        "mask= np.tril(np.ones( (L,L) ))\n",
        "mask"
      ],
      "metadata": {
        "colab": {
          "base_uri": "https://localhost:8080/"
        },
        "id": "-XamM-FM86uP",
        "outputId": "0274c9a5-d8bb-45f2-f35d-c3e57ab83072"
      },
      "execution_count": null,
      "outputs": [
        {
          "output_type": "execute_result",
          "data": {
            "text/plain": [
              "array([[1., 0., 0., 0.],\n",
              "       [1., 1., 0., 0.],\n",
              "       [1., 1., 1., 0.],\n",
              "       [1., 1., 1., 1.]])"
            ]
          },
          "metadata": {},
          "execution_count": 12
        }
      ]
    },
    {
      "cell_type": "code",
      "source": [
        "mask[mask== 0] = -np.infty\n",
        "mask[mask== 1] = 0"
      ],
      "metadata": {
        "id": "YptG_YLsBtY3"
      },
      "execution_count": null,
      "outputs": []
    },
    {
      "cell_type": "code",
      "source": [
        "scaled + mask"
      ],
      "metadata": {
        "colab": {
          "base_uri": "https://localhost:8080/"
        },
        "id": "lyXfQ0tQIGx7",
        "outputId": "4b41f3f4-816b-4e88-f4aa-4aeccb6492bb"
      },
      "execution_count": null,
      "outputs": [
        {
          "output_type": "execute_result",
          "data": {
            "text/plain": [
              "array([[-0.23210939,        -inf,        -inf,        -inf],\n",
              "       [ 0.73469299,  0.4282943 ,        -inf,        -inf],\n",
              "       [ 1.48633715, -0.10312613, -0.46265113,        -inf],\n",
              "       [ 1.67284077, -0.40183569,  0.77867714, -2.08735961]])"
            ]
          },
          "metadata": {},
          "execution_count": 14
        }
      ]
    },
    {
      "cell_type": "code",
      "source": [
        "#softmax time\n",
        "def softmax(x):\n",
        "  return (np.exp(x).T / np.sum(np.exp(x), axis=-1)).T"
      ],
      "metadata": {
        "id": "fd8Z_qn9IM_A"
      },
      "execution_count": null,
      "outputs": []
    },
    {
      "cell_type": "code",
      "source": [
        "attention = softmax(scaled+mask)"
      ],
      "metadata": {
        "id": "T81-cdjBKsry"
      },
      "execution_count": null,
      "outputs": []
    },
    {
      "cell_type": "code",
      "source": [
        "attention"
      ],
      "metadata": {
        "colab": {
          "base_uri": "https://localhost:8080/"
        },
        "id": "EKlQnC05KyZB",
        "outputId": "6cb9acb9-ce18-4239-d013-d4e638013625"
      },
      "execution_count": null,
      "outputs": [
        {
          "output_type": "execute_result",
          "data": {
            "text/plain": [
              "array([[1.        , 0.        , 0.        , 0.        ],\n",
              "       [0.57600598, 0.42399402, 0.        , 0.        ],\n",
              "       [0.742692  , 0.15153523, 0.10577277, 0.        ],\n",
              "       [0.64192037, 0.08062331, 0.26251301, 0.01494331]])"
            ]
          },
          "metadata": {},
          "execution_count": 18
        }
      ]
    },
    {
      "cell_type": "code",
      "source": [
        "new_v = np.matmul(attention,v)\n",
        "new_v"
      ],
      "metadata": {
        "colab": {
          "base_uri": "https://localhost:8080/"
        },
        "id": "mnGy--a6K6ix",
        "outputId": "23592142-f97e-488e-b051-71e2e933535f"
      },
      "execution_count": null,
      "outputs": [
        {
          "output_type": "execute_result",
          "data": {
            "text/plain": [
              "array([[-0.66661609, -0.2300184 ,  0.10529725,  0.8967182 ,  0.1888911 ,\n",
              "         0.73803245, -0.49179694, -0.52730004],\n",
              "       [-0.43042733, -0.3005801 ,  0.27028764,  0.20148928,  0.08388766,\n",
              "         0.65991313, -1.40654681, -0.4815708 ],\n",
              "       [-0.60938126, -0.25463428,  0.15628372,  0.65480118, -0.0135991 ,\n",
              "         0.76663431, -0.72213858, -0.41393903],\n",
              "       [-0.69240361, -0.2469094 ,  0.08791747,  0.76954556, -0.2253876 ,\n",
              "         0.85725767, -0.409163  , -0.26081935]])"
            ]
          },
          "metadata": {},
          "execution_count": 19
        }
      ]
    },
    {
      "cell_type": "code",
      "source": [
        "v"
      ],
      "metadata": {
        "colab": {
          "base_uri": "https://localhost:8080/"
        },
        "id": "LS7pNOYULUM6",
        "outputId": "75a0e2fd-4c8c-4f5b-a5e7-17c8da3c8087"
      },
      "execution_count": null,
      "outputs": [
        {
          "output_type": "execute_result",
          "data": {
            "text/plain": [
              "array([[-0.66661609, -0.2300184 ,  0.10529725,  0.8967182 ,  0.1888911 ,\n",
              "         0.73803245, -0.49179694, -0.52730004],\n",
              "       [-0.10955928, -0.39643985,  0.49443102, -0.74299578, -0.05876202,\n",
              "         0.55378618, -2.64925633, -0.41944655],\n",
              "       [-0.9235716 , -0.2243191 ,  0.029843  ,  0.95871349, -1.37069767,\n",
              "         1.27240117,  0.42138193,  0.38992467],\n",
              "       [-0.88377787, -0.56258775, -1.8317103 ,  0.14400398,  1.19939318,\n",
              "         0.32319981,  0.6360734 ,  0.61045097]])"
            ]
          },
          "metadata": {},
          "execution_count": 20
        }
      ]
    },
    {
      "cell_type": "code",
      "source": [
        "def scaled_dot_product_attention(q,k,v, mask=None):\n",
        "  d_k = q.shape[-1]\n",
        "  scaled= np.matmul(q,k.T) / math.sqrt(d_k)\n",
        "  if mask is not None:\n",
        "    scaled= scaled+mask\n",
        "  attention = softmax(scaled)\n",
        "  out = np.matmul(attention,v)\n",
        "  return out, attention\n"
      ],
      "metadata": {
        "id": "jgAybXntLdrh"
      },
      "execution_count": null,
      "outputs": []
    },
    {
      "cell_type": "code",
      "source": [
        "scaled_dot_product_attention(q,k,v, mask=mask)"
      ],
      "metadata": {
        "colab": {
          "base_uri": "https://localhost:8080/"
        },
        "id": "p9uSVizBOFRM",
        "outputId": "404c8a3d-1e71-4e1f-d92b-8cdce0f86a75"
      },
      "execution_count": null,
      "outputs": [
        {
          "output_type": "execute_result",
          "data": {
            "text/plain": [
              "(array([[-0.66661609, -0.2300184 ,  0.10529725,  0.8967182 ,  0.1888911 ,\n",
              "          0.73803245, -0.49179694, -0.52730004],\n",
              "        [-0.51113582, -0.27646833,  0.21390848,  0.43905722,  0.11976857,\n",
              "          0.68660743, -1.09396597, -0.49719702],\n",
              "        [-0.57636641, -0.28894883,  0.21514358,  0.31871729, -0.60417695,\n",
              "          0.91032976, -0.87821687, -0.07484719],\n",
              "        [-0.84876995, -0.32258153, -0.4060383 ,  0.62750641, -0.59076015,\n",
              "          0.9682549 ,  0.23279007,  0.3669685 ]]),\n",
              " array([[1.        , 0.        , 0.        , 0.        ],\n",
              "        [0.72088975, 0.27911025, 0.        , 0.        ],\n",
              "        [0.18065601, 0.3695087 , 0.44983529, 0.        ],\n",
              "        [0.0218007 , 0.07263483, 0.65240409, 0.25316038]]))"
            ]
          },
          "metadata": {},
          "execution_count": 23
        }
      ]
    },
    {
      "cell_type": "code",
      "source": [],
      "metadata": {
        "id": "LVIIro7qOGtC"
      },
      "execution_count": null,
      "outputs": []
    }
  ]
}